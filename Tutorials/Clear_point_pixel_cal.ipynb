{
 "cells": [
  {
   "cell_type": "code",
   "execution_count": 1,
   "metadata": {},
   "outputs": [
    {
     "name": "stdout",
     "output_type": "stream",
     "text": [
      "Enter the coordinates for First and Last coordinates\n",
      "Enter x1 in mm = stdin> 12\n",
      "Enter y1 in mm = stdin> 12\n",
      "Enter x1 in pixel = stdin> 140\n",
      "Enter y1 in pixel = stdin> 200\n",
      "Enter x2 in mm = stdin> 150\n",
      "Enter y2 in mm = stdin> 150\n",
      "Enter x2 in pixel = stdin> 1008\n",
      "Enter y2 in pixel = stdin> 1100\n",
      "Enter Clear Point, x in mm = stdin> 160\n",
      "Enter Clear Point, y in mm = stdin> 100\n",
      "Clear Point pixel values = 440.3007518796993, 273.8888888888889\n"
     ]
    }
   ],
   "source": [
    "println(\"Enter the coordinates for First and Last coordinates\")\n",
    "\n",
    "print(\"Enter x1 in mm = \"); x1_mm = parse(Float64,readline())\n",
    "print(\"Enter y1 in mm = \"); y1_mm = parse(Float64,readline())\n",
    "print(\"Enter x1 in pixel = \"); x1_pix = parse(Float64,readline())\n",
    "print(\"Enter y1 in pixel = \"); y1_pix = parse(Float64,readline())\n",
    "\n",
    "print(\"Enter x2 in mm = \"); x2_mm = parse(Float64,readline())\n",
    "print(\"Enter y2 in mm = \"); y2_mm = parse(Float64,readline())\n",
    "print(\"Enter x2 in pixel = \"); x2_pix = parse(Float64,readline())\n",
    "print(\"Enter y2 in pixel = \"); y2_pix = parse(Float64,readline())\n",
    "\n",
    "print(\"Enter Clear Point, x in mm = \"); x3_mm = parse(Float64,readline())\n",
    "print(\"Enter Clear Point, y in mm = \"); y3_mm = parse(Float64,readline())\n",
    "\n",
    "'''\n",
    "x1_mm = 0\n",
    "y1_mm = 0\n",
    "x1_pix = 574\n",
    "y1_pix = 238\n",
    "\n",
    "x2_mm = 266\n",
    "y2_mm = 180\n",
    "\n",
    "x2_pix = 1306\n",
    "y2_pix = 731\n",
    "\n",
    "Clear_point_x_mm = 307.8\n",
    "Clear_point_y_mm = 118\n",
    "'''\n",
    "\n",
    "Δx_pix = ((x2_pix - x1_pix)/x2_mm)\n",
    "Δy_pix  = ((y2_pix - y1_pix)/y2_mm)\n",
    "\n",
    "\n",
    "Clear_point_x_pix = x3_mm * Δx_pix\n",
    "Clear_point_y_pix = y3_mm * Δy_pix\n",
    "\n",
    "println(\"Clear Point pixel values = $Clear_point_x_pix, $Clear_point_y_pix\")"
   ]
  },
  {
   "cell_type": "code",
   "execution_count": null,
   "metadata": {},
   "outputs": [],
   "source": []
  }
 ],
 "metadata": {
  "kernelspec": {
   "display_name": "Julia 1.4.2",
   "language": "julia",
   "name": "julia-1.4"
  },
  "language_info": {
   "file_extension": ".jl",
   "mimetype": "application/julia",
   "name": "julia",
   "version": "1.4.2"
  }
 },
 "nbformat": 4,
 "nbformat_minor": 2
}
